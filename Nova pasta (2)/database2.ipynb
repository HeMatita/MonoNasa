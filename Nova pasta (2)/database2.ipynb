{
 "cells": [
  {
   "cell_type": "markdown",
   "metadata": {},
   "source": [
    "## Database"
   ]
  },
  {
   "cell_type": "code",
   "execution_count": 5,
   "metadata": {},
   "outputs": [],
   "source": [
    "import pandas as pd\n",
    "import numpy as np\n",
    "from scipy import stats\n",
    "import matplotlib.pyplot as plt\n",
    "import seaborn as sns\n",
    "from sklearn import preprocessing\n",
    "from sklearn import datasets \n",
    "from sklearn.model_selection import train_test_split\n",
    "from sklearn import linear_model\n",
    "from sklearn.metrics import mean_squared_error, r2_score\n",
    "#from autosklearn.classification import AutoSklearnClassifier\n",
    "\n",
    "%matplotlib inline"
   ]
  },
  {
   "cell_type": "markdown",
   "metadata": {},
   "source": [
    "Databases de cada Local para facilitar a limpeza e padronização dos dataframes"
   ]
  },
  {
   "cell_type": "code",
   "execution_count": 6,
   "metadata": {},
   "outputs": [],
   "source": [
    "#Lendo a base de dados\n",
    "#df1=pd.read_csv('Focos_2018-12-31_2019-12-31.csv', low_memory=False)\n",
    "#df2=pd.read_csv('Focos_2020-01-01_2020-10-04.csv', low_memory=False)\n",
    "df=pd.read_csv(\"Focos_2020-01-01_2020-09-11.csv\", low_memory=False)"
   ]
  },
  {
   "cell_type": "code",
   "execution_count": 7,
   "metadata": {},
   "outputs": [],
   "source": [
    "#frames=[df1,df2]\n",
    "#df = pd.concat(frames)"
   ]
  },
  {
   "cell_type": "code",
   "execution_count": 8,
   "metadata": {
    "scrolled": true
   },
   "outputs": [
    {
     "data": {
      "text/html": [
       "<div>\n",
       "<style scoped>\n",
       "    .dataframe tbody tr th:only-of-type {\n",
       "        vertical-align: middle;\n",
       "    }\n",
       "\n",
       "    .dataframe tbody tr th {\n",
       "        vertical-align: top;\n",
       "    }\n",
       "\n",
       "    .dataframe thead th {\n",
       "        text-align: right;\n",
       "    }\n",
       "</style>\n",
       "<table border=\"1\" class=\"dataframe\">\n",
       "  <thead>\n",
       "    <tr style=\"text-align: right;\">\n",
       "      <th></th>\n",
       "      <th>datahora</th>\n",
       "      <th>satelite</th>\n",
       "      <th>pais</th>\n",
       "      <th>estado</th>\n",
       "      <th>municipio</th>\n",
       "      <th>bioma</th>\n",
       "      <th>diasemchuva</th>\n",
       "      <th>precipitacao</th>\n",
       "      <th>riscofogo</th>\n",
       "      <th>latitude</th>\n",
       "      <th>longitude</th>\n",
       "      <th>frp</th>\n",
       "    </tr>\n",
       "  </thead>\n",
       "  <tbody>\n",
       "    <tr>\n",
       "      <th>0</th>\n",
       "      <td>2020/06/17 17:35:00</td>\n",
       "      <td>AQUA_M-T</td>\n",
       "      <td>Argentina</td>\n",
       "      <td>Chaco</td>\n",
       "      <td>San Fernando</td>\n",
       "      <td>NaN</td>\n",
       "      <td>12.0</td>\n",
       "      <td>1.0</td>\n",
       "      <td>1.0</td>\n",
       "      <td>-27.789</td>\n",
       "      <td>-58.862</td>\n",
       "      <td>15.5</td>\n",
       "    </tr>\n",
       "    <tr>\n",
       "      <th>1</th>\n",
       "      <td>2020/06/17 17:35:00</td>\n",
       "      <td>AQUA_M-T</td>\n",
       "      <td>Argentina</td>\n",
       "      <td>Corrientes</td>\n",
       "      <td>Empedrado</td>\n",
       "      <td>NaN</td>\n",
       "      <td>3.0</td>\n",
       "      <td>0.9</td>\n",
       "      <td>1.0</td>\n",
       "      <td>-27.819</td>\n",
       "      <td>-58.526</td>\n",
       "      <td>10.9</td>\n",
       "    </tr>\n",
       "    <tr>\n",
       "      <th>2</th>\n",
       "      <td>2020/06/17 17:35:00</td>\n",
       "      <td>AQUA_M-T</td>\n",
       "      <td>Argentina</td>\n",
       "      <td>Chaco</td>\n",
       "      <td>San Fernando</td>\n",
       "      <td>NaN</td>\n",
       "      <td>13.0</td>\n",
       "      <td>0.6</td>\n",
       "      <td>1.0</td>\n",
       "      <td>-27.820</td>\n",
       "      <td>-59.206</td>\n",
       "      <td>101.6</td>\n",
       "    </tr>\n",
       "    <tr>\n",
       "      <th>3</th>\n",
       "      <td>2020/06/17 17:35:00</td>\n",
       "      <td>AQUA_M-T</td>\n",
       "      <td>Argentina</td>\n",
       "      <td>Santiago del Estero</td>\n",
       "      <td>Moreno</td>\n",
       "      <td>NaN</td>\n",
       "      <td>5.0</td>\n",
       "      <td>0.0</td>\n",
       "      <td>1.0</td>\n",
       "      <td>-27.640</td>\n",
       "      <td>-62.138</td>\n",
       "      <td>50.6</td>\n",
       "    </tr>\n",
       "    <tr>\n",
       "      <th>4</th>\n",
       "      <td>2020/06/17 17:35:00</td>\n",
       "      <td>AQUA_M-T</td>\n",
       "      <td>Argentina</td>\n",
       "      <td>Chaco</td>\n",
       "      <td>San Fernando</td>\n",
       "      <td>NaN</td>\n",
       "      <td>13.0</td>\n",
       "      <td>0.6</td>\n",
       "      <td>1.0</td>\n",
       "      <td>-27.556</td>\n",
       "      <td>-59.201</td>\n",
       "      <td>15.9</td>\n",
       "    </tr>\n",
       "  </tbody>\n",
       "</table>\n",
       "</div>"
      ],
      "text/plain": [
       "              datahora  satelite       pais               estado  \\\n",
       "0  2020/06/17 17:35:00  AQUA_M-T  Argentina                Chaco   \n",
       "1  2020/06/17 17:35:00  AQUA_M-T  Argentina           Corrientes   \n",
       "2  2020/06/17 17:35:00  AQUA_M-T  Argentina                Chaco   \n",
       "3  2020/06/17 17:35:00  AQUA_M-T  Argentina  Santiago del Estero   \n",
       "4  2020/06/17 17:35:00  AQUA_M-T  Argentina                Chaco   \n",
       "\n",
       "      municipio bioma  diasemchuva  precipitacao  riscofogo  latitude  \\\n",
       "0  San Fernando   NaN         12.0           1.0        1.0   -27.789   \n",
       "1     Empedrado   NaN          3.0           0.9        1.0   -27.819   \n",
       "2  San Fernando   NaN         13.0           0.6        1.0   -27.820   \n",
       "3        Moreno   NaN          5.0           0.0        1.0   -27.640   \n",
       "4  San Fernando   NaN         13.0           0.6        1.0   -27.556   \n",
       "\n",
       "   longitude    frp  \n",
       "0    -58.862   15.5  \n",
       "1    -58.526   10.9  \n",
       "2    -59.206  101.6  \n",
       "3    -62.138   50.6  \n",
       "4    -59.201   15.9  "
      ]
     },
     "execution_count": 8,
     "metadata": {},
     "output_type": "execute_result"
    }
   ],
   "source": [
    "#demonstrando dados iniciais\n",
    "df.head()"
   ]
  },
  {
   "cell_type": "code",
   "execution_count": 9,
   "metadata": {},
   "outputs": [],
   "source": [
    "#Retirando variáveis desnecessárias e separando a data e a hora\n",
    "df[['data','hora']] = df.datahora.str.split(\" \",expand=True,)\n",
    "\n",
    "df_novo=df.drop([\"datahora\",\"satelite\",\"bioma\",\"municipio\",\"estado\",\"frp\"], axis=1)\n",
    "\n",
    "df_novo.data = df_novo.data.str.replace(\"/\", \" \")\n",
    "df_novo[['ano','mes',\"dia\"]] = df_novo.data.str.split(\" \",expand=True,)\n",
    "\n",
    "df_novo['hora'] = df_novo['hora'].str.replace(r'\\D', '')\n",
    "df_novo['hora'] = df_novo['hora'].astype(int)\n",
    "df_novo['mes'] = df_novo['mes'].astype(int)\n",
    "df_novo['dia'] = df_novo['dia'].astype(float)\n",
    "\n",
    "df_novo.loc[(60000< df_novo.hora) | (df_novo.hora<180000), \"horario\"]=0\n",
    "df_novo.loc[(df_novo.hora>180000) | (df_novo.hora<60000), \"horario\"]=1\n",
    "\n",
    "\n",
    "df_novo=df_novo.drop([\"data\",\"ano\",\"hora\"], axis=1)\n",
    "\n",
    "\n",
    "\n",
    "df.novo=df_novo.dropna(how='any', inplace=True)\n",
    "indexNames = df_novo[ (df_novo['diasemchuva'] < 0) | (df_novo['riscofogo'] < 0) ].index\n",
    "df_novo.drop(indexNames , inplace=True)\n",
    "\n",
    "#df_novo=df_novo.replace(-999, 0)"
   ]
  },
  {
   "cell_type": "code",
   "execution_count": 10,
   "metadata": {},
   "outputs": [],
   "source": [
    "df_novo.loc[(df_novo.mes==3) & (df_novo.dia>=20), \"estacao\"]=1\n",
    "df_novo.loc[(df_novo.mes==6) & (df_novo.dia>=21), \"estacao\"]=2\n",
    "df_novo.loc[(df_novo.mes==9) & (df_novo.dia>=23), \"estacao\"]=3\n",
    "df_novo.loc[(df_novo.mes==12) & (df_novo.dia>=22), \"estacao\"]=4\n",
    "df_novo.loc[(df_novo.mes<=6) & (df_novo.mes>3) | (df_novo.mes==6)  & (df_novo.dia<21) , \"estacao\"]=1\n",
    "df_novo.loc[(df_novo.mes<=9) & (df_novo.mes>6) | (df_novo.mes==9) & (df_novo.dia<23), \"estacao\"]=2\n",
    "df_novo.loc[(df_novo.mes<=12) & (df_novo.mes>9) | (df_novo.mes==12) & (df_novo.dia<22), \"estacao\"]=3\n",
    "df_novo.loc[(df_novo.mes<=3) & (df_novo.mes>=1) | (df_novo.mes==3) & (df_novo.dia<23) , \"estacao\"]=4"
   ]
  },
  {
   "cell_type": "code",
   "execution_count": null,
   "metadata": {},
   "outputs": [],
   "source": []
  },
  {
   "cell_type": "code",
   "execution_count": null,
   "metadata": {},
   "outputs": [],
   "source": []
  },
  {
   "cell_type": "code",
   "execution_count": null,
   "metadata": {},
   "outputs": [],
   "source": []
  },
  {
   "cell_type": "code",
   "execution_count": 11,
   "metadata": {},
   "outputs": [
    {
     "data": {
      "text/html": [
       "<div>\n",
       "<style scoped>\n",
       "    .dataframe tbody tr th:only-of-type {\n",
       "        vertical-align: middle;\n",
       "    }\n",
       "\n",
       "    .dataframe tbody tr th {\n",
       "        vertical-align: top;\n",
       "    }\n",
       "\n",
       "    .dataframe thead th {\n",
       "        text-align: right;\n",
       "    }\n",
       "</style>\n",
       "<table border=\"1\" class=\"dataframe\">\n",
       "  <thead>\n",
       "    <tr style=\"text-align: right;\">\n",
       "      <th></th>\n",
       "      <th>pais</th>\n",
       "      <th>diasemchuva</th>\n",
       "      <th>precipitacao</th>\n",
       "      <th>latitude</th>\n",
       "      <th>longitude</th>\n",
       "      <th>mes</th>\n",
       "      <th>dia</th>\n",
       "      <th>horario</th>\n",
       "      <th>estacao</th>\n",
       "      <th>riscofogo</th>\n",
       "    </tr>\n",
       "  </thead>\n",
       "  <tbody>\n",
       "    <tr>\n",
       "      <th>0</th>\n",
       "      <td>Argentina</td>\n",
       "      <td>12.0</td>\n",
       "      <td>1.0</td>\n",
       "      <td>-27.789</td>\n",
       "      <td>-58.862</td>\n",
       "      <td>6</td>\n",
       "      <td>17.0</td>\n",
       "      <td>0.0</td>\n",
       "      <td>1.0</td>\n",
       "      <td>1.0</td>\n",
       "    </tr>\n",
       "    <tr>\n",
       "      <th>1</th>\n",
       "      <td>Argentina</td>\n",
       "      <td>3.0</td>\n",
       "      <td>0.9</td>\n",
       "      <td>-27.819</td>\n",
       "      <td>-58.526</td>\n",
       "      <td>6</td>\n",
       "      <td>17.0</td>\n",
       "      <td>0.0</td>\n",
       "      <td>1.0</td>\n",
       "      <td>1.0</td>\n",
       "    </tr>\n",
       "    <tr>\n",
       "      <th>2</th>\n",
       "      <td>Argentina</td>\n",
       "      <td>13.0</td>\n",
       "      <td>0.6</td>\n",
       "      <td>-27.820</td>\n",
       "      <td>-59.206</td>\n",
       "      <td>6</td>\n",
       "      <td>17.0</td>\n",
       "      <td>0.0</td>\n",
       "      <td>1.0</td>\n",
       "      <td>1.0</td>\n",
       "    </tr>\n",
       "    <tr>\n",
       "      <th>3</th>\n",
       "      <td>Argentina</td>\n",
       "      <td>5.0</td>\n",
       "      <td>0.0</td>\n",
       "      <td>-27.640</td>\n",
       "      <td>-62.138</td>\n",
       "      <td>6</td>\n",
       "      <td>17.0</td>\n",
       "      <td>0.0</td>\n",
       "      <td>1.0</td>\n",
       "      <td>1.0</td>\n",
       "    </tr>\n",
       "    <tr>\n",
       "      <th>4</th>\n",
       "      <td>Argentina</td>\n",
       "      <td>13.0</td>\n",
       "      <td>0.6</td>\n",
       "      <td>-27.556</td>\n",
       "      <td>-59.201</td>\n",
       "      <td>6</td>\n",
       "      <td>17.0</td>\n",
       "      <td>0.0</td>\n",
       "      <td>1.0</td>\n",
       "      <td>1.0</td>\n",
       "    </tr>\n",
       "  </tbody>\n",
       "</table>\n",
       "</div>"
      ],
      "text/plain": [
       "        pais  diasemchuva  precipitacao  latitude  longitude  mes   dia  \\\n",
       "0  Argentina         12.0           1.0   -27.789    -58.862    6  17.0   \n",
       "1  Argentina          3.0           0.9   -27.819    -58.526    6  17.0   \n",
       "2  Argentina         13.0           0.6   -27.820    -59.206    6  17.0   \n",
       "3  Argentina          5.0           0.0   -27.640    -62.138    6  17.0   \n",
       "4  Argentina         13.0           0.6   -27.556    -59.201    6  17.0   \n",
       "\n",
       "   horario  estacao  riscofogo  \n",
       "0      0.0      1.0        1.0  \n",
       "1      0.0      1.0        1.0  \n",
       "2      0.0      1.0        1.0  \n",
       "3      0.0      1.0        1.0  \n",
       "4      0.0      1.0        1.0  "
      ]
     },
     "execution_count": 11,
     "metadata": {},
     "output_type": "execute_result"
    }
   ],
   "source": [
    "df_novo=df_novo[[\"pais\",\"diasemchuva\",\"precipitacao\",\"latitude\",\"longitude\",\"mes\",\"dia\",\"horario\",\"estacao\",\"riscofogo\"]]\n",
    "#df_novo=df_novo[[\"pais\",\"diasemchuva\",\"precipitacao\",\"latitude\",\"longitude\",\"mes\",\"horario\",\"estacao\",\"riscofogo\"]]\n",
    "\n",
    "df_novo.head()"
   ]
  },
  {
   "cell_type": "code",
   "execution_count": null,
   "metadata": {},
   "outputs": [],
   "source": []
  },
  {
   "cell_type": "code",
   "execution_count": 32,
   "metadata": {},
   "outputs": [
    {
     "data": {
      "image/png": "[encoded data removed]",
      "text/plain": [
       "<Figure size 720x720 with 4 Axes>"
      ]
     },
     "metadata": {
      "needs_background": "light"
     },
     "output_type": "display_data"
    }
   ],
   "source": [
    "fig=plt.figure(figsize=(10,10))\n",
    "\n",
    "#Riscofogo X Precipitação\n",
    "plt.subplot(221)\n",
    "plt.scatter(df_novo.riscofogo,df_novo.precipitacao)\n",
    "plt.title(\"Riscofogo X Precipitação\")\n",
    "plt.ylabel(\"Precipitação\")\n",
    "plt.xlabel(\"Risco de Fogo\")\n",
    "\n",
    "#Riscofogo X Dias Sem chuva\n",
    "plt.subplot(222)\n",
    "plt.scatter(df_novo.riscofogo,df_novo.diasemchuva)\n",
    "plt.title(\"Riscofogo X Dias Sem chuva\")\n",
    "plt.ylabel(\"Dias sem chuva\")\n",
    "plt.xlabel(\"Risco de Fogo\")\n",
    "\n",
    "#Riscofogo X Latitude\n",
    "plt.subplot(223)\n",
    "plt.scatter(df_novo.riscofogo,df_novo.latitude)\n",
    "plt.title(\"Riscofogo X Latitude\")\n",
    "plt.ylabel(\"Latitude\")\n",
    "plt.xlabel(\"Risco de Fogo\")\n",
    "\n",
    "#Riscofogo X Longitude\n",
    "plt.subplot(224)\n",
    "plt.scatter(df_novo.riscofogo,df_novo.longitude)\n",
    "plt.title(\"Riscofogo X Longitude\")\n",
    "plt.ylabel(\"Longitude\")\n",
    "plt.xlabel(\"Risco de Fogo\")\n",
    "\n",
    "plt.show()"
   ]
  },
  {
   "cell_type": "code",
   "execution_count": 31,
   "metadata": {},
   "outputs": [
    {
     "data": {
      "text/plain": [
       "Text(0.5, 1.0, 'Probplot:Longitude')"
      ]
     },
     "execution_count": 31,
     "metadata": {},
     "output_type": "execute_result"
    },
    {
     "data": {
      "image/png": "[encoded data removed]",
      "text/plain": [
       "<Figure size 1080x720 with 4 Axes>"
      ]
     },
     "metadata": {
      "needs_background": "light"
     },
     "output_type": "display_data"
    }
   ],
   "source": [
    "fig=plt.figure(figsize=(15,10))\n",
    "\n",
    "plt.subplot(221)\n",
    "stats.probplot(df_novo.riscofogo, plot = plt )\n",
    "plt.title(\"Probplot:Risco de Fogo\")\n",
    "\n",
    "plt.subplot(222)\n",
    "stats.probplot(df_novo.diasemchuva, plot = plt )\n",
    "plt.title(\"Probplot:Dias Sem Chuva\")\n",
    "\n",
    "plt.subplot(223)\n",
    "stats.probplot(df_novo.latitude, plot = plt )\n",
    "plt.title(\"Probplot:Latitude\")\n",
    "\n",
    "plt.subplot(224)\n",
    "stats.probplot(df_novo.longitude, plot = plt )\n",
    "plt.title(\"Probplot:Longitude\")"
   ]
  },
  {
   "cell_type": "code",
   "execution_count": 13,
   "metadata": {},
   "outputs": [],
   "source": [
    "#Salvando base de dados como CSV\n",
    "df_novo.to_csv('BaseDeDados.csv')"
   ]
  },
  {
   "cell_type": "code",
   "execution_count": 14,
   "metadata": {},
   "outputs": [],
   "source": [
    "data=pd.read_csv('BaseDeDados.csv')"
   ]
  },
  {
   "cell_type": "code",
   "execution_count": 15,
   "metadata": {},
   "outputs": [],
   "source": [
    "data=data[[\"diasemchuva\",\"precipitacao\",\"latitude\",\"longitude\",\"mes\",\"horario\",\"estacao\",\"riscofogo\"]]\n",
    "dataset = data.values\n",
    "ft, target = dataset[:, :-1], dataset[:, -1]\n",
    "x_treino, x_teste, y_treino, y_teste = train_test_split(ft, target, test_size=0.2, random_state=1)"
   ]
  },
  {
   "cell_type": "code",
   "execution_count": 16,
   "metadata": {},
   "outputs": [],
   "source": [
    "modelo=linear_model.LinearRegression()"
   ]
  },
  {
   "cell_type": "code",
   "execution_count": 17,
   "metadata": {},
   "outputs": [
    {
     "data": {
      "text/plain": [
       "LinearRegression()"
      ]
     },
     "execution_count": 17,
     "metadata": {},
     "output_type": "execute_result"
    }
   ],
   "source": [
    "modelo.fit(x_treino,y_treino)"
   ]
  },
  {
   "cell_type": "code",
   "execution_count": 18,
   "metadata": {},
   "outputs": [
    {
     "name": "stdout",
     "output_type": "stream",
     "text": [
      "Coeficientes : [ 0.00714365 -0.02841945 -0.00979189 -0.00351931  0.01885803  0.00460081\n",
      "  0.00238905]\n",
      "      r^2 : 0.69\n"
     ]
    }
   ],
   "source": [
    "print(\"Coeficientes :\",modelo.coef_)\n",
    "y_predict=modelo.predict(x_teste)\n",
    "print(\"      r^2 : %.2f\"%r2_score(y_teste,y_predict))"
   ]
  },
  {
   "cell_type": "markdown",
   "metadata": {},
   "source": [
    "## Dataset para testar eficiencia "
   ]
  },
  {
   "cell_type": "markdown",
   "metadata": {},
   "source": []
  },
  {
   "cell_type": "code",
   "execution_count": 20,
   "metadata": {},
   "outputs": [],
   "source": [
    "dados_conf=pd.read_csv(\"Focos_2019-10-04_2020-10-04.csv\", low_memory=False)"
   ]
  },
  {
   "cell_type": "code",
   "execution_count": 21,
   "metadata": {},
   "outputs": [],
   "source": [
    "dados_conf[['data','hora']] = dados_conf.datahora.str.split(\" \",expand=True,)\n",
    "\n",
    "dados_def=dados_conf.drop([\"datahora\",\"satelite\",\"bioma\",\"municipio\",\"estado\",\"frp\"], axis=1)\n",
    "\n",
    "dados_def.data = dados_def.data.str.replace(\"/\", \" \")\n",
    "dados_def[['ano','mes',\"dia\"]] = dados_def.data.str.split(\" \",expand=True,)\n",
    "\n",
    "dados_def['hora'] = dados_def['hora'].str.replace(r'\\D', '')\n",
    "dados_def['hora'] = dados_def['hora'].astype(int)\n",
    "dados_def['mes'] = dados_def['mes'].astype(int)\n",
    "dados_def['dia'] = dados_def['dia'].astype(float)\n",
    "\n",
    "dados_def.loc[(60000< dados_def.hora) | (dados_def.hora<180000), \"horario\"]=0\n",
    "dados_def.loc[(dados_def.hora>180000) | (dados_def.hora<60000), \"horario\"]=1\n",
    "\n",
    "\n",
    "dados_def=dados_def.drop([\"data\",\"ano\",\"hora\"], axis=1)\n",
    "dados_def.dropna(how='any', inplace=True)"
   ]
  },
  {
   "cell_type": "code",
   "execution_count": 22,
   "metadata": {},
   "outputs": [],
   "source": [
    "indexNames2 =dados_def[ (dados_def['diasemchuva'] < 0) | (dados_def['riscofogo'] < 0) ].index\n",
    "dados_def.drop(indexNames2 , inplace=True)"
   ]
  },
  {
   "cell_type": "code",
   "execution_count": 23,
   "metadata": {},
   "outputs": [
    {
     "data": {
      "text/html": [
       "<div>\n",
       "<style scoped>\n",
       "    .dataframe tbody tr th:only-of-type {\n",
       "        vertical-align: middle;\n",
       "    }\n",
       "\n",
       "    .dataframe tbody tr th {\n",
       "        vertical-align: top;\n",
       "    }\n",
       "\n",
       "    .dataframe thead th {\n",
       "        text-align: right;\n",
       "    }\n",
       "</style>\n",
       "<table border=\"1\" class=\"dataframe\">\n",
       "  <thead>\n",
       "    <tr style=\"text-align: right;\">\n",
       "      <th></th>\n",
       "      <th>pais</th>\n",
       "      <th>diasemchuva</th>\n",
       "      <th>precipitacao</th>\n",
       "      <th>latitude</th>\n",
       "      <th>longitude</th>\n",
       "      <th>mes</th>\n",
       "      <th>dia</th>\n",
       "      <th>horario</th>\n",
       "      <th>estacao</th>\n",
       "      <th>riscofogo</th>\n",
       "    </tr>\n",
       "  </thead>\n",
       "  <tbody>\n",
       "    <tr>\n",
       "      <th>0</th>\n",
       "      <td>Brasil</td>\n",
       "      <td>7.0</td>\n",
       "      <td>8.1</td>\n",
       "      <td>-16.916</td>\n",
       "      <td>-44.824</td>\n",
       "      <td>10</td>\n",
       "      <td>22.0</td>\n",
       "      <td>0.0</td>\n",
       "      <td>3.0</td>\n",
       "      <td>0.4</td>\n",
       "    </tr>\n",
       "    <tr>\n",
       "      <th>1</th>\n",
       "      <td>Brasil</td>\n",
       "      <td>9.0</td>\n",
       "      <td>7.7</td>\n",
       "      <td>-16.917</td>\n",
       "      <td>-44.834</td>\n",
       "      <td>10</td>\n",
       "      <td>22.0</td>\n",
       "      <td>0.0</td>\n",
       "      <td>3.0</td>\n",
       "      <td>0.5</td>\n",
       "    </tr>\n",
       "    <tr>\n",
       "      <th>2</th>\n",
       "      <td>Brasil</td>\n",
       "      <td>15.0</td>\n",
       "      <td>28.5</td>\n",
       "      <td>-18.018</td>\n",
       "      <td>-42.134</td>\n",
       "      <td>10</td>\n",
       "      <td>22.0</td>\n",
       "      <td>0.0</td>\n",
       "      <td>3.0</td>\n",
       "      <td>0.0</td>\n",
       "    </tr>\n",
       "    <tr>\n",
       "      <th>3</th>\n",
       "      <td>Brasil</td>\n",
       "      <td>8.0</td>\n",
       "      <td>28.8</td>\n",
       "      <td>-18.023</td>\n",
       "      <td>-41.505</td>\n",
       "      <td>10</td>\n",
       "      <td>22.0</td>\n",
       "      <td>0.0</td>\n",
       "      <td>3.0</td>\n",
       "      <td>0.0</td>\n",
       "    </tr>\n",
       "    <tr>\n",
       "      <th>4</th>\n",
       "      <td>Brasil</td>\n",
       "      <td>5.0</td>\n",
       "      <td>3.4</td>\n",
       "      <td>-18.151</td>\n",
       "      <td>-46.168</td>\n",
       "      <td>10</td>\n",
       "      <td>22.0</td>\n",
       "      <td>0.0</td>\n",
       "      <td>3.0</td>\n",
       "      <td>0.2</td>\n",
       "    </tr>\n",
       "  </tbody>\n",
       "</table>\n",
       "</div>"
      ],
      "text/plain": [
       "     pais  diasemchuva  precipitacao  latitude  longitude  mes   dia  horario  \\\n",
       "0  Brasil          7.0           8.1   -16.916    -44.824   10  22.0      0.0   \n",
       "1  Brasil          9.0           7.7   -16.917    -44.834   10  22.0      0.0   \n",
       "2  Brasil         15.0          28.5   -18.018    -42.134   10  22.0      0.0   \n",
       "3  Brasil          8.0          28.8   -18.023    -41.505   10  22.0      0.0   \n",
       "4  Brasil          5.0           3.4   -18.151    -46.168   10  22.0      0.0   \n",
       "\n",
       "   estacao  riscofogo  \n",
       "0      3.0        0.4  \n",
       "1      3.0        0.5  \n",
       "2      3.0        0.0  \n",
       "3      3.0        0.0  \n",
       "4      3.0        0.2  "
      ]
     },
     "execution_count": 23,
     "metadata": {},
     "output_type": "execute_result"
    }
   ],
   "source": [
    "dados_def.loc[(dados_def.mes==3) & (dados_def.dia>=20), \"estacao\"]=1\n",
    "dados_def.loc[(dados_def.mes==6) & (dados_def.dia>=21), \"estacao\"]=2\n",
    "dados_def.loc[(dados_def.mes==9) & (dados_def.dia>=23), \"estacao\"]=3\n",
    "dados_def.loc[(dados_def.mes==12) & (dados_def.dia>=22), \"estacao\"]=4\n",
    "dados_def.loc[(dados_def.mes<=6) & (dados_def.mes>3) | (dados_def.mes==6)  & (dados_def.dia<21) , \"estacao\"]=1\n",
    "dados_def.loc[(dados_def.mes<=9) & (dados_def.mes>6) | (dados_def.mes==9) & (dados_def.dia<23), \"estacao\"]=2\n",
    "dados_def.loc[(dados_def.mes<=12) & (dados_def.mes>9) | (dados_def.mes==12) & (dados_def.dia<22), \"estacao\"]=3\n",
    "dados_def.loc[(dados_def.mes<=3) & (dados_def.mes>=1) | (dados_def.mes==3) & (dados_def.dia<23) , \"estacao\"]=4\n",
    "\n",
    "dados_def=dados_def[[\"pais\",\"diasemchuva\",\"precipitacao\",\"latitude\",\"longitude\",\"mes\",\"dia\",\"horario\",\"estacao\",\"riscofogo\"]]\n",
    "dados_def.head()"
   ]
  },
  {
   "cell_type": "code",
   "execution_count": 24,
   "metadata": {},
   "outputs": [],
   "source": [
    "dados_def.to_csv('BaseDeDadosOficial.csv')"
   ]
  },
  {
   "cell_type": "code",
   "execution_count": 25,
   "metadata": {},
   "outputs": [],
   "source": [
    "database=pd.read_csv('BaseDeDados.csv')\n",
    "database=database[[\"diasemchuva\",\"precipitacao\",\"latitude\",\"longitude\",\"mes\",\"horario\",\"estacao\",\"riscofogo\"]]\n",
    "#dataset_def = database.values\n",
    "#dataset_def"
   ]
  },
  {
   "cell_type": "code",
   "execution_count": 26,
   "metadata": {},
   "outputs": [],
   "source": [
    "Y=database.riscofogo\n",
    "X=database.drop([\"riscofogo\"],axis=1)"
   ]
  },
  {
   "cell_type": "code",
   "execution_count": 27,
   "metadata": {},
   "outputs": [],
   "source": [
    "x_treino, x_teste, y_treino, y_teste = train_test_split(X, Y, test_size=0.2, random_state=1)"
   ]
  },
  {
   "cell_type": "code",
   "execution_count": 28,
   "metadata": {},
   "outputs": [],
   "source": [
    "modelo=linear_model.LinearRegression()"
   ]
  },
  {
   "cell_type": "code",
   "execution_count": 29,
   "metadata": {},
   "outputs": [
    {
     "data": {
      "text/plain": [
       "LinearRegression()"
      ]
     },
     "execution_count": 29,
     "metadata": {},
     "output_type": "execute_result"
    }
   ],
   "source": [
    "modelo.fit(x_treino,y_treino)"
   ]
  },
  {
   "cell_type": "code",
   "execution_count": 30,
   "metadata": {},
   "outputs": [
    {
     "name": "stdout",
     "output_type": "stream",
     "text": [
      "Coeficientes : [ 0.00714365 -0.02841945 -0.00979189 -0.00351931  0.01885803  0.00460081\n",
      "  0.00238905]\n",
      "      r^2 : 0.69\n"
     ]
    }
   ],
   "source": [
    "print(\"Coeficientes :\",modelo.coef_)\n",
    "y_predict=modelo.predict(x_teste)\n",
    "print(\"      r^2 : %.2f\"%r2_score(y_teste,y_predict))"
   ]
  },
  {
   "cell_type": "code",
   "execution_count": null,
   "metadata": {},
   "outputs": [],
   "source": []
  }
 ],
 "metadata": {
  "kernelspec": {
   "display_name": "Python 3",
   "language": "python",
   "name": "python3"
  },
  "language_info": {
   "codemirror_mode": {
    "name": "ipython",
    "version": 3
   },
   "file_extension": ".py",
   "mimetype": "text/x-python",
   "name": "python",
   "nbconvert_exporter": "python",
   "pygments_lexer": "ipython3",
   "version": "3.8.3"
  }
 },
 "nbformat": 4,
 "nbformat_minor": 2
}
