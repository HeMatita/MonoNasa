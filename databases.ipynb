{
 "cells": [
  {
   "cell_type": "markdown",
   "metadata": {},
   "source": [
    "## Database"
   ]
  },
  {
   "cell_type": "code",
   "execution_count": 1,
   "metadata": {},
   "outputs": [],
   "source": [
    "import pandas as pd\n",
    "import numpy as np\n",
    "from scipy import stats\n",
    "import matplotlib.pyplot as plt\n",
    "import seaborn as sns\n",
    "import statsmodels.api as sm\n",
    "from sklearn import preprocessing\n",
    "%matplotlib inline"
   ]
  },
  {
   "cell_type": "markdown",
   "metadata": {},
   "source": [
    "Databases de cada Local para facilitar a limpeza e padronização dos dataframes"
   ]
  },
  {
   "cell_type": "code",
   "execution_count": 27,
   "metadata": {},
   "outputs": [],
   "source": [
    "#Lendo a base de dados\n",
    "#df1=pd.read_csv('Focos_2018-12-31_2019-12-31.csv', low_memory=False)\n",
    "#df2=pd.read_csv('Focos_2020-01-01_2020-10-04.csv', low_memory=False)\n",
    "df=pd.read_csv(\"brasil-Focos_2019-10-04_2020-10-04.csv\", low_memory=False)"
   ]
  },
  {
   "cell_type": "code",
   "execution_count": 28,
   "metadata": {},
   "outputs": [],
   "source": [
    "#frames=[df1,df2]\n",
    "#df = pd.concat(frames)"
   ]
  },
  {
   "cell_type": "code",
   "execution_count": 29,
   "metadata": {
    "scrolled": true
   },
   "outputs": [
    {
     "data": {
      "text/html": [
       "<div>\n",
       "<style scoped>\n",
       "    .dataframe tbody tr th:only-of-type {\n",
       "        vertical-align: middle;\n",
       "    }\n",
       "\n",
       "    .dataframe tbody tr th {\n",
       "        vertical-align: top;\n",
       "    }\n",
       "\n",
       "    .dataframe thead th {\n",
       "        text-align: right;\n",
       "    }\n",
       "</style>\n",
       "<table border=\"1\" class=\"dataframe\">\n",
       "  <thead>\n",
       "    <tr style=\"text-align: right;\">\n",
       "      <th></th>\n",
       "      <th>datahora</th>\n",
       "      <th>satelite</th>\n",
       "      <th>pais</th>\n",
       "      <th>estado</th>\n",
       "      <th>municipio</th>\n",
       "      <th>bioma</th>\n",
       "      <th>diasemchuva</th>\n",
       "      <th>precipitacao</th>\n",
       "      <th>riscofogo</th>\n",
       "      <th>latitude</th>\n",
       "      <th>longitude</th>\n",
       "      <th>frp</th>\n",
       "    </tr>\n",
       "  </thead>\n",
       "  <tbody>\n",
       "    <tr>\n",
       "      <th>0</th>\n",
       "      <td>2019/10/22 16:40:00</td>\n",
       "      <td>AQUA_M-T</td>\n",
       "      <td>Brasil</td>\n",
       "      <td>MINAS GERAIS</td>\n",
       "      <td>IBIAI</td>\n",
       "      <td>Cerrado</td>\n",
       "      <td>7.0</td>\n",
       "      <td>8.1</td>\n",
       "      <td>0.4</td>\n",
       "      <td>-16.916</td>\n",
       "      <td>-44.824</td>\n",
       "      <td>157.3</td>\n",
       "    </tr>\n",
       "    <tr>\n",
       "      <th>1</th>\n",
       "      <td>2019/10/22 16:40:00</td>\n",
       "      <td>AQUA_M-T</td>\n",
       "      <td>Brasil</td>\n",
       "      <td>MINAS GERAIS</td>\n",
       "      <td>IBIAI</td>\n",
       "      <td>Cerrado</td>\n",
       "      <td>9.0</td>\n",
       "      <td>7.7</td>\n",
       "      <td>0.5</td>\n",
       "      <td>-16.917</td>\n",
       "      <td>-44.834</td>\n",
       "      <td>36.6</td>\n",
       "    </tr>\n",
       "    <tr>\n",
       "      <th>2</th>\n",
       "      <td>2019/10/22 16:40:00</td>\n",
       "      <td>AQUA_M-T</td>\n",
       "      <td>Brasil</td>\n",
       "      <td>MINAS GERAIS</td>\n",
       "      <td>FRANCISCOPOLIS</td>\n",
       "      <td>Mata Atlantica</td>\n",
       "      <td>15.0</td>\n",
       "      <td>28.5</td>\n",
       "      <td>0.0</td>\n",
       "      <td>-18.018</td>\n",
       "      <td>-42.134</td>\n",
       "      <td>12.1</td>\n",
       "    </tr>\n",
       "    <tr>\n",
       "      <th>3</th>\n",
       "      <td>2019/10/22 16:40:00</td>\n",
       "      <td>AQUA_M-T</td>\n",
       "      <td>Brasil</td>\n",
       "      <td>MINAS GERAIS</td>\n",
       "      <td>TEOFILO OTONI</td>\n",
       "      <td>Mata Atlantica</td>\n",
       "      <td>8.0</td>\n",
       "      <td>28.8</td>\n",
       "      <td>0.0</td>\n",
       "      <td>-18.023</td>\n",
       "      <td>-41.505</td>\n",
       "      <td>9.4</td>\n",
       "    </tr>\n",
       "    <tr>\n",
       "      <th>4</th>\n",
       "      <td>2019/10/22 16:40:00</td>\n",
       "      <td>AQUA_M-T</td>\n",
       "      <td>Brasil</td>\n",
       "      <td>MINAS GERAIS</td>\n",
       "      <td>PRESIDENTE OLEGARIO</td>\n",
       "      <td>Cerrado</td>\n",
       "      <td>5.0</td>\n",
       "      <td>3.4</td>\n",
       "      <td>0.2</td>\n",
       "      <td>-18.151</td>\n",
       "      <td>-46.168</td>\n",
       "      <td>11.1</td>\n",
       "    </tr>\n",
       "  </tbody>\n",
       "</table>\n",
       "</div>"
      ],
      "text/plain": [
       "              datahora  satelite    pais        estado            municipio  \\\n",
       "0  2019/10/22 16:40:00  AQUA_M-T  Brasil  MINAS GERAIS                IBIAI   \n",
       "1  2019/10/22 16:40:00  AQUA_M-T  Brasil  MINAS GERAIS                IBIAI   \n",
       "2  2019/10/22 16:40:00  AQUA_M-T  Brasil  MINAS GERAIS       FRANCISCOPOLIS   \n",
       "3  2019/10/22 16:40:00  AQUA_M-T  Brasil  MINAS GERAIS        TEOFILO OTONI   \n",
       "4  2019/10/22 16:40:00  AQUA_M-T  Brasil  MINAS GERAIS  PRESIDENTE OLEGARIO   \n",
       "\n",
       "            bioma  diasemchuva  precipitacao  riscofogo  latitude  longitude  \\\n",
       "0         Cerrado          7.0           8.1        0.4   -16.916    -44.824   \n",
       "1         Cerrado          9.0           7.7        0.5   -16.917    -44.834   \n",
       "2  Mata Atlantica         15.0          28.5        0.0   -18.018    -42.134   \n",
       "3  Mata Atlantica          8.0          28.8        0.0   -18.023    -41.505   \n",
       "4         Cerrado          5.0           3.4        0.2   -18.151    -46.168   \n",
       "\n",
       "     frp  \n",
       "0  157.3  \n",
       "1   36.6  \n",
       "2   12.1  \n",
       "3    9.4  \n",
       "4   11.1  "
      ]
     },
     "execution_count": 29,
     "metadata": {},
     "output_type": "execute_result"
    }
   ],
   "source": [
    "#demonstrando dados iniciais\n",
    "df.head()"
   ]
  },
  {
   "cell_type": "code",
   "execution_count": 38,
   "metadata": {},
   "outputs": [],
   "source": [
    "#Retirando variáveis desnecessárias e separando a data e a hora\n",
    "df[['data','hora']] = df.datahora.str.split(\" \",expand=True,)\n",
    "df_novo=df.drop([\"datahora\",\"satelite\",\"bioma\",\"municipio\",\"estado\",\"frp\"], axis=1)\n",
    "\n",
    "df.novo=df_novo.dropna(how='any', inplace=True)\n",
    "indexNames = df_novo[ (df_novo['diasemchuva'] < 0) | (df_novo['riscofogo'] < 0) ].index\n",
    "df_novo.drop(indexNames , inplace=True)\n",
    "#df_novo=df_novo.replace(-999, 0)"
   ]
  },
  {
   "cell_type": "code",
   "execution_count": 41,
   "metadata": {},
   "outputs": [
    {
     "data": {
      "text/html": [
       "<div>\n",
       "<style scoped>\n",
       "    .dataframe tbody tr th:only-of-type {\n",
       "        vertical-align: middle;\n",
       "    }\n",
       "\n",
       "    .dataframe tbody tr th {\n",
       "        vertical-align: top;\n",
       "    }\n",
       "\n",
       "    .dataframe thead th {\n",
       "        text-align: right;\n",
       "    }\n",
       "</style>\n",
       "<table border=\"1\" class=\"dataframe\">\n",
       "  <thead>\n",
       "    <tr style=\"text-align: right;\">\n",
       "      <th></th>\n",
       "      <th>pais</th>\n",
       "      <th>diasemchuva</th>\n",
       "      <th>precipitacao</th>\n",
       "      <th>riscofogo</th>\n",
       "      <th>latitude</th>\n",
       "      <th>longitude</th>\n",
       "      <th>data</th>\n",
       "      <th>hora</th>\n",
       "    </tr>\n",
       "  </thead>\n",
       "  <tbody>\n",
       "    <tr>\n",
       "      <th>0</th>\n",
       "      <td>Brasil</td>\n",
       "      <td>7.0</td>\n",
       "      <td>8.1</td>\n",
       "      <td>0.4</td>\n",
       "      <td>-16.916</td>\n",
       "      <td>-44.824</td>\n",
       "      <td>20191022</td>\n",
       "      <td>164000</td>\n",
       "    </tr>\n",
       "    <tr>\n",
       "      <th>1</th>\n",
       "      <td>Brasil</td>\n",
       "      <td>9.0</td>\n",
       "      <td>7.7</td>\n",
       "      <td>0.5</td>\n",
       "      <td>-16.917</td>\n",
       "      <td>-44.834</td>\n",
       "      <td>20191022</td>\n",
       "      <td>164000</td>\n",
       "    </tr>\n",
       "    <tr>\n",
       "      <th>2</th>\n",
       "      <td>Brasil</td>\n",
       "      <td>15.0</td>\n",
       "      <td>28.5</td>\n",
       "      <td>0.0</td>\n",
       "      <td>-18.018</td>\n",
       "      <td>-42.134</td>\n",
       "      <td>20191022</td>\n",
       "      <td>164000</td>\n",
       "    </tr>\n",
       "    <tr>\n",
       "      <th>3</th>\n",
       "      <td>Brasil</td>\n",
       "      <td>8.0</td>\n",
       "      <td>28.8</td>\n",
       "      <td>0.0</td>\n",
       "      <td>-18.023</td>\n",
       "      <td>-41.505</td>\n",
       "      <td>20191022</td>\n",
       "      <td>164000</td>\n",
       "    </tr>\n",
       "    <tr>\n",
       "      <th>4</th>\n",
       "      <td>Brasil</td>\n",
       "      <td>5.0</td>\n",
       "      <td>3.4</td>\n",
       "      <td>0.2</td>\n",
       "      <td>-18.151</td>\n",
       "      <td>-46.168</td>\n",
       "      <td>20191022</td>\n",
       "      <td>164000</td>\n",
       "    </tr>\n",
       "  </tbody>\n",
       "</table>\n",
       "</div>"
      ],
      "text/plain": [
       "     pais  diasemchuva  precipitacao  riscofogo  latitude  longitude  \\\n",
       "0  Brasil          7.0           8.1        0.4   -16.916    -44.824   \n",
       "1  Brasil          9.0           7.7        0.5   -16.917    -44.834   \n",
       "2  Brasil         15.0          28.5        0.0   -18.018    -42.134   \n",
       "3  Brasil          8.0          28.8        0.0   -18.023    -41.505   \n",
       "4  Brasil          5.0           3.4        0.2   -18.151    -46.168   \n",
       "\n",
       "       data    hora  \n",
       "0  20191022  164000  \n",
       "1  20191022  164000  \n",
       "2  20191022  164000  \n",
       "3  20191022  164000  \n",
       "4  20191022  164000  "
      ]
     },
     "execution_count": 41,
     "metadata": {},
     "output_type": "execute_result"
    }
   ],
   "source": [
    "df_novo['hora'] = df_novo['hora'].str.replace(r'\\D', '')\n",
    "df_novo['data'] = df_novo['data'].str.replace(r'\\D', '')\n",
    "#df_novo.data = [x.strip('2020') for x in df_novo.data]\n",
    "#df_novo.data = [x.strip('2019') for x in df_novo.data]\n",
    "df_novo['hora'].astype(str).astype(int)\n",
    "df_novo.head()"
   ]
  },
  {
   "cell_type": "code",
   "execution_count": 46,
   "metadata": {},
   "outputs": [
    {
     "ename": "TypeError",
     "evalue": "'>' not supported between instances of 'str' and 'int'",
     "output_type": "error",
     "traceback": [
      "\u001b[1;31m---------------------------------------------------------------------------\u001b[0m",
      "\u001b[1;31mTypeError\u001b[0m                                 Traceback (most recent call last)",
      "\u001b[1;32m<ipython-input-46-de3f72eb8507>\u001b[0m in \u001b[0;36m<module>\u001b[1;34m()\u001b[0m\n\u001b[1;32m----> 1\u001b[1;33m \u001b[0mdf_novo\u001b[0m\u001b[1;33m=\u001b[0m\u001b[0mdf_novo\u001b[0m\u001b[1;33m.\u001b[0m\u001b[0mreplace\u001b[0m\u001b[1;33m(\u001b[0m\u001b[0mdf_novo\u001b[0m\u001b[1;33m.\u001b[0m\u001b[0mhora\u001b[0m\u001b[1;33m>\u001b[0m\u001b[1;36m60000\u001b[0m\u001b[1;33m,\u001b[0m \u001b[1;34m\"Dia\"\u001b[0m\u001b[1;33m)\u001b[0m\u001b[1;33m\u001b[0m\u001b[0m\n\u001b[0m",
      "\u001b[1;32m~\\Anaconda3\\lib\\site-packages\\pandas\\core\\ops.py\u001b[0m in \u001b[0;36mwrapper\u001b[1;34m(self, other, axis)\u001b[0m\n\u001b[0;32m   1251\u001b[0m \u001b[1;33m\u001b[0m\u001b[0m\n\u001b[0;32m   1252\u001b[0m             \u001b[1;32mwith\u001b[0m \u001b[0mnp\u001b[0m\u001b[1;33m.\u001b[0m\u001b[0merrstate\u001b[0m\u001b[1;33m(\u001b[0m\u001b[0mall\u001b[0m\u001b[1;33m=\u001b[0m\u001b[1;34m'ignore'\u001b[0m\u001b[1;33m)\u001b[0m\u001b[1;33m:\u001b[0m\u001b[1;33m\u001b[0m\u001b[0m\n\u001b[1;32m-> 1253\u001b[1;33m                 \u001b[0mres\u001b[0m \u001b[1;33m=\u001b[0m \u001b[0mna_op\u001b[0m\u001b[1;33m(\u001b[0m\u001b[0mvalues\u001b[0m\u001b[1;33m,\u001b[0m \u001b[0mother\u001b[0m\u001b[1;33m)\u001b[0m\u001b[1;33m\u001b[0m\u001b[0m\n\u001b[0m\u001b[0;32m   1254\u001b[0m             \u001b[1;32mif\u001b[0m \u001b[0mis_scalar\u001b[0m\u001b[1;33m(\u001b[0m\u001b[0mres\u001b[0m\u001b[1;33m)\u001b[0m\u001b[1;33m:\u001b[0m\u001b[1;33m\u001b[0m\u001b[0m\n\u001b[0;32m   1255\u001b[0m                 raise TypeError('Could not compare {typ} type with Series'\n",
      "\u001b[1;32m~\\Anaconda3\\lib\\site-packages\\pandas\\core\\ops.py\u001b[0m in \u001b[0;36mna_op\u001b[1;34m(x, y)\u001b[0m\n\u001b[0;32m   1138\u001b[0m \u001b[1;33m\u001b[0m\u001b[0m\n\u001b[0;32m   1139\u001b[0m         \u001b[1;32melif\u001b[0m \u001b[0mis_object_dtype\u001b[0m\u001b[1;33m(\u001b[0m\u001b[0mx\u001b[0m\u001b[1;33m.\u001b[0m\u001b[0mdtype\u001b[0m\u001b[1;33m)\u001b[0m\u001b[1;33m:\u001b[0m\u001b[1;33m\u001b[0m\u001b[0m\n\u001b[1;32m-> 1140\u001b[1;33m             \u001b[0mresult\u001b[0m \u001b[1;33m=\u001b[0m \u001b[0m_comp_method_OBJECT_ARRAY\u001b[0m\u001b[1;33m(\u001b[0m\u001b[0mop\u001b[0m\u001b[1;33m,\u001b[0m \u001b[0mx\u001b[0m\u001b[1;33m,\u001b[0m \u001b[0my\u001b[0m\u001b[1;33m)\u001b[0m\u001b[1;33m\u001b[0m\u001b[0m\n\u001b[0m\u001b[0;32m   1141\u001b[0m \u001b[1;33m\u001b[0m\u001b[0m\n\u001b[0;32m   1142\u001b[0m         \u001b[1;32melif\u001b[0m \u001b[0mis_datetimelike_v_numeric\u001b[0m\u001b[1;33m(\u001b[0m\u001b[0mx\u001b[0m\u001b[1;33m,\u001b[0m \u001b[0my\u001b[0m\u001b[1;33m)\u001b[0m\u001b[1;33m:\u001b[0m\u001b[1;33m\u001b[0m\u001b[0m\n",
      "\u001b[1;32m~\\Anaconda3\\lib\\site-packages\\pandas\\core\\ops.py\u001b[0m in \u001b[0;36m_comp_method_OBJECT_ARRAY\u001b[1;34m(op, x, y)\u001b[0m\n\u001b[0;32m   1117\u001b[0m         \u001b[0mresult\u001b[0m \u001b[1;33m=\u001b[0m \u001b[0mlibops\u001b[0m\u001b[1;33m.\u001b[0m\u001b[0mvec_compare\u001b[0m\u001b[1;33m(\u001b[0m\u001b[0mx\u001b[0m\u001b[1;33m,\u001b[0m \u001b[0my\u001b[0m\u001b[1;33m,\u001b[0m \u001b[0mop\u001b[0m\u001b[1;33m)\u001b[0m\u001b[1;33m\u001b[0m\u001b[0m\n\u001b[0;32m   1118\u001b[0m     \u001b[1;32melse\u001b[0m\u001b[1;33m:\u001b[0m\u001b[1;33m\u001b[0m\u001b[0m\n\u001b[1;32m-> 1119\u001b[1;33m         \u001b[0mresult\u001b[0m \u001b[1;33m=\u001b[0m \u001b[0mlibops\u001b[0m\u001b[1;33m.\u001b[0m\u001b[0mscalar_compare\u001b[0m\u001b[1;33m(\u001b[0m\u001b[0mx\u001b[0m\u001b[1;33m,\u001b[0m \u001b[0my\u001b[0m\u001b[1;33m,\u001b[0m \u001b[0mop\u001b[0m\u001b[1;33m)\u001b[0m\u001b[1;33m\u001b[0m\u001b[0m\n\u001b[0m\u001b[0;32m   1120\u001b[0m     \u001b[1;32mreturn\u001b[0m \u001b[0mresult\u001b[0m\u001b[1;33m\u001b[0m\u001b[0m\n\u001b[0;32m   1121\u001b[0m \u001b[1;33m\u001b[0m\u001b[0m\n",
      "\u001b[1;32mpandas\\_libs\\ops.pyx\u001b[0m in \u001b[0;36mpandas._libs.ops.scalar_compare\u001b[1;34m()\u001b[0m\n",
      "\u001b[1;31mTypeError\u001b[0m: '>' not supported between instances of 'str' and 'int'"
     ]
    }
   ],
   "source": [
    "df_novo=df_novo.replace(df_novo.hora>60000, \"Dia\")"
   ]
  },
  {
   "cell_type": "code",
   "execution_count": 8,
   "metadata": {},
   "outputs": [
    {
     "data": {
      "text/plain": [
       "<matplotlib.axes._subplots.AxesSubplot at 0x2be07327f28>"
      ]
     },
     "execution_count": 8,
     "metadata": {},
     "output_type": "execute_result"
    },
    {
     "data": {
      "image/png": "[encoded data removed]",
      "text/plain": [
       "<Figure size 720x720 with 2 Axes>"
      ]
     },
     "metadata": {},
     "output_type": "display_data"
    }
   ],
   "source": [
    "f,ax = plt.subplots(figsize = (10,10))\n",
    "sns.heatmap(df_novo.corr(),annot= True, fmt='.1f')"
   ]
  },
  {
   "cell_type": "code",
   "execution_count": 9,
   "metadata": {},
   "outputs": [
    {
     "data": {
      "text/plain": [
       "'fig=plt.figure(figsize=(10,10))\\n\\n#Riscofogo X Precipitação\\nplt.subplot(221)\\nplt.scatter(df_novo.riscofogo,df_novo.precipitacao)\\nplt.title(\"Riscofogo X Precipitação\")\\nplt.ylabel(\"Precipitação\")\\nplt.xlabel(\"Risco de Fogo\")\\n\\n#Riscofogo X Dias Sem chuva\\nplt.subplot(222)\\nplt.scatter(df_novo.riscofogo,df_novo.diasemchuva)\\nplt.title(\"Riscofogo X Dias Sem chuva\")\\nplt.ylabel(\"Dias sem chuva\")\\nplt.xlabel(\"Risco de Fogo\")\\n\\n#Riscofogo X Latitude\\nplt.subplot(223)\\nplt.scatter(df_novo.riscofogo,df_novo.latitude)\\nplt.title(\"Riscofogo X Latitude\")\\nplt.ylabel(\"Latitude\")\\nplt.xlabel(\"Risco de Fogo\")\\n\\n#Riscofogo X Longitude\\nplt.subplot(224)\\nplt.scatter(df_novo.riscofogo,df_novo.longitude)\\nplt.title(\"Riscofogo X Longitude\")\\nplt.ylabel(\"Longitude\")\\nplt.xlabel(\"Risco de Fogo\")\\n\\nplt.show()'"
      ]
     },
     "execution_count": 9,
     "metadata": {},
     "output_type": "execute_result"
    }
   ],
   "source": [
    "'''fig=plt.figure(figsize=(10,10))\n",
    "\n",
    "#Riscofogo X Precipitação\n",
    "plt.subplot(221)\n",
    "plt.scatter(df_novo.riscofogo,df_novo.precipitacao)\n",
    "plt.title(\"Riscofogo X Precipitação\")\n",
    "plt.ylabel(\"Precipitação\")\n",
    "plt.xlabel(\"Risco de Fogo\")\n",
    "\n",
    "#Riscofogo X Dias Sem chuva\n",
    "plt.subplot(222)\n",
    "plt.scatter(df_novo.riscofogo,df_novo.diasemchuva)\n",
    "plt.title(\"Riscofogo X Dias Sem chuva\")\n",
    "plt.ylabel(\"Dias sem chuva\")\n",
    "plt.xlabel(\"Risco de Fogo\")\n",
    "\n",
    "#Riscofogo X Latitude\n",
    "plt.subplot(223)\n",
    "plt.scatter(df_novo.riscofogo,df_novo.latitude)\n",
    "plt.title(\"Riscofogo X Latitude\")\n",
    "plt.ylabel(\"Latitude\")\n",
    "plt.xlabel(\"Risco de Fogo\")\n",
    "\n",
    "#Riscofogo X Longitude\n",
    "plt.subplot(224)\n",
    "plt.scatter(df_novo.riscofogo,df_novo.longitude)\n",
    "plt.title(\"Riscofogo X Longitude\")\n",
    "plt.ylabel(\"Longitude\")\n",
    "plt.xlabel(\"Risco de Fogo\")\n",
    "\n",
    "plt.show()'''"
   ]
  },
  {
   "cell_type": "code",
   "execution_count": 10,
   "metadata": {},
   "outputs": [
    {
     "data": {
      "text/plain": [
       "Text(0.5,1,'Probplot:Longitude')"
      ]
     },
     "execution_count": 10,
     "metadata": {},
     "output_type": "execute_result"
    },
    {
     "data": {
      "image/png": "[encoded data removed]",
      "text/plain": [
       "<Figure size 1080x720 with 4 Axes>"
      ]
     },
     "metadata": {},
     "output_type": "display_data"
    }
   ],
   "source": [
    "fig=plt.figure(figsize=(15,10))\n",
    "\n",
    "plt.subplot(221)\n",
    "stats.probplot(df_novo.riscofogo, plot = plt )\n",
    "plt.title(\"Probplot:Risco de Fogo\")\n",
    "\n",
    "plt.subplot(222)\n",
    "stats.probplot(df_novo.diasemchuva, plot = plt )\n",
    "plt.title(\"Probplot:Dias Sem Chuva\")\n",
    "\n",
    "plt.subplot(223)\n",
    "stats.probplot(df_novo.latitude, plot = plt )\n",
    "plt.title(\"Probplot:Latitude\")\n",
    "\n",
    "plt.subplot(224)\n",
    "stats.probplot(df_novo.longitude, plot = plt )\n",
    "plt.title(\"Probplot:Longitude\")"
   ]
  },
  {
   "cell_type": "code",
   "execution_count": null,
   "metadata": {},
   "outputs": [],
   "source": []
  },
  {
   "cell_type": "code",
   "execution_count": null,
   "metadata": {},
   "outputs": [],
   "source": []
  },
  {
   "cell_type": "code",
   "execution_count": null,
   "metadata": {},
   "outputs": [],
   "source": []
  },
  {
   "cell_type": "code",
   "execution_count": 11,
   "metadata": {},
   "outputs": [],
   "source": [
    "#Salvando base de dados como CSV\n",
    "#df_novo.to_csv('BaseDeDados.csv')"
   ]
  },
  {
   "cell_type": "code",
   "execution_count": null,
   "metadata": {},
   "outputs": [],
   "source": []
  },
  {
   "cell_type": "code",
   "execution_count": null,
   "metadata": {},
   "outputs": [],
   "source": []
  }
 ],
 "metadata": {
  "kernelspec": {
   "display_name": "Python 3",
   "language": "python",
   "name": "python3"
  },
  "language_info": {
   "codemirror_mode": {
    "name": "ipython",
    "version": 3
   },
   "file_extension": ".py",
   "mimetype": "text/x-python",
   "name": "python",
   "nbconvert_exporter": "python",
   "pygments_lexer": "ipython3",
   "version": "3.6.5"
  }
 },
 "nbformat": 4,
 "nbformat_minor": 2
}
