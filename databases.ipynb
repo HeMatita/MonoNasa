{
 "cells": [
  {
   "cell_type": "markdown",
   "metadata": {},
   "source": [
    "## Database"
   ]
  },
  {
   "cell_type": "code",
   "execution_count": 1,
   "metadata": {},
   "outputs": [],
   "source": [
    "import pandas as pd\n",
    "import numpy as np\n",
    "from scipy import stats\n",
    "import matplotlib.pyplot as plt\n",
    "import seaborn as sns\n",
    "from sklearn import preprocessing\n",
    "from sklearn import datasets \n",
    "from sklearn.model_selection import train_test_split\n",
    "from sklearn import linear_model\n",
    "from sklearn.metrics import mean_squared_error, r2_score\n",
    "#from autosklearn.classification import AutoSklearnClassifier\n",
    "\n",
    "%matplotlib inline"
   ]
  },
  {
   "cell_type": "markdown",
   "metadata": {},
   "source": [
    "Databases de cada Local para facilitar a limpeza e padronização dos dataframes"
   ]
  },
  {
   "cell_type": "code",
   "execution_count": 2,
   "metadata": {},
   "outputs": [],
   "source": [
    "#Lendo a base de dados\n",
    "#df1=pd.read_csv('Focos_2018-12-31_2019-12-31.csv', low_memory=False)\n",
    "#df2=pd.read_csv('Focos_2020-01-01_2020-10-04.csv', low_memory=False)\n",
    "df=pd.read_csv(\"brasil-Focos_2019-10-04_2020-10-04.csv\", low_memory=False)"
   ]
  },
  {
   "cell_type": "code",
   "execution_count": 3,
   "metadata": {},
   "outputs": [],
   "source": [
    "#frames=[df1,df2]\n",
    "#df = pd.concat(frames)"
   ]
  },
  {
   "cell_type": "code",
   "execution_count": 4,
   "metadata": {
    "scrolled": true
   },
   "outputs": [
    {
     "data": {
      "text/html": [
       "<div>\n",
       "<style scoped>\n",
       "    .dataframe tbody tr th:only-of-type {\n",
       "        vertical-align: middle;\n",
       "    }\n",
       "\n",
       "    .dataframe tbody tr th {\n",
       "        vertical-align: top;\n",
       "    }\n",
       "\n",
       "    .dataframe thead th {\n",
       "        text-align: right;\n",
       "    }\n",
       "</style>\n",
       "<table border=\"1\" class=\"dataframe\">\n",
       "  <thead>\n",
       "    <tr style=\"text-align: right;\">\n",
       "      <th></th>\n",
       "      <th>datahora</th>\n",
       "      <th>satelite</th>\n",
       "      <th>pais</th>\n",
       "      <th>estado</th>\n",
       "      <th>municipio</th>\n",
       "      <th>bioma</th>\n",
       "      <th>diasemchuva</th>\n",
       "      <th>precipitacao</th>\n",
       "      <th>riscofogo</th>\n",
       "      <th>latitude</th>\n",
       "      <th>longitude</th>\n",
       "      <th>frp</th>\n",
       "    </tr>\n",
       "  </thead>\n",
       "  <tbody>\n",
       "    <tr>\n",
       "      <th>0</th>\n",
       "      <td>2019/10/22 16:40:00</td>\n",
       "      <td>AQUA_M-T</td>\n",
       "      <td>Brasil</td>\n",
       "      <td>MINAS GERAIS</td>\n",
       "      <td>IBIAI</td>\n",
       "      <td>Cerrado</td>\n",
       "      <td>7.0</td>\n",
       "      <td>8.1</td>\n",
       "      <td>0.4</td>\n",
       "      <td>-16.916</td>\n",
       "      <td>-44.824</td>\n",
       "      <td>157.3</td>\n",
       "    </tr>\n",
       "    <tr>\n",
       "      <th>1</th>\n",
       "      <td>2019/10/22 16:40:00</td>\n",
       "      <td>AQUA_M-T</td>\n",
       "      <td>Brasil</td>\n",
       "      <td>MINAS GERAIS</td>\n",
       "      <td>IBIAI</td>\n",
       "      <td>Cerrado</td>\n",
       "      <td>9.0</td>\n",
       "      <td>7.7</td>\n",
       "      <td>0.5</td>\n",
       "      <td>-16.917</td>\n",
       "      <td>-44.834</td>\n",
       "      <td>36.6</td>\n",
       "    </tr>\n",
       "    <tr>\n",
       "      <th>2</th>\n",
       "      <td>2019/10/22 16:40:00</td>\n",
       "      <td>AQUA_M-T</td>\n",
       "      <td>Brasil</td>\n",
       "      <td>MINAS GERAIS</td>\n",
       "      <td>FRANCISCOPOLIS</td>\n",
       "      <td>Mata Atlantica</td>\n",
       "      <td>15.0</td>\n",
       "      <td>28.5</td>\n",
       "      <td>0.0</td>\n",
       "      <td>-18.018</td>\n",
       "      <td>-42.134</td>\n",
       "      <td>12.1</td>\n",
       "    </tr>\n",
       "    <tr>\n",
       "      <th>3</th>\n",
       "      <td>2019/10/22 16:40:00</td>\n",
       "      <td>AQUA_M-T</td>\n",
       "      <td>Brasil</td>\n",
       "      <td>MINAS GERAIS</td>\n",
       "      <td>TEOFILO OTONI</td>\n",
       "      <td>Mata Atlantica</td>\n",
       "      <td>8.0</td>\n",
       "      <td>28.8</td>\n",
       "      <td>0.0</td>\n",
       "      <td>-18.023</td>\n",
       "      <td>-41.505</td>\n",
       "      <td>9.4</td>\n",
       "    </tr>\n",
       "    <tr>\n",
       "      <th>4</th>\n",
       "      <td>2019/10/22 16:40:00</td>\n",
       "      <td>AQUA_M-T</td>\n",
       "      <td>Brasil</td>\n",
       "      <td>MINAS GERAIS</td>\n",
       "      <td>PRESIDENTE OLEGARIO</td>\n",
       "      <td>Cerrado</td>\n",
       "      <td>5.0</td>\n",
       "      <td>3.4</td>\n",
       "      <td>0.2</td>\n",
       "      <td>-18.151</td>\n",
       "      <td>-46.168</td>\n",
       "      <td>11.1</td>\n",
       "    </tr>\n",
       "  </tbody>\n",
       "</table>\n",
       "</div>"
      ],
      "text/plain": [
       "              datahora  satelite    pais        estado            municipio  \\\n",
       "0  2019/10/22 16:40:00  AQUA_M-T  Brasil  MINAS GERAIS                IBIAI   \n",
       "1  2019/10/22 16:40:00  AQUA_M-T  Brasil  MINAS GERAIS                IBIAI   \n",
       "2  2019/10/22 16:40:00  AQUA_M-T  Brasil  MINAS GERAIS       FRANCISCOPOLIS   \n",
       "3  2019/10/22 16:40:00  AQUA_M-T  Brasil  MINAS GERAIS        TEOFILO OTONI   \n",
       "4  2019/10/22 16:40:00  AQUA_M-T  Brasil  MINAS GERAIS  PRESIDENTE OLEGARIO   \n",
       "\n",
       "            bioma  diasemchuva  precipitacao  riscofogo  latitude  longitude  \\\n",
       "0         Cerrado          7.0           8.1        0.4   -16.916    -44.824   \n",
       "1         Cerrado          9.0           7.7        0.5   -16.917    -44.834   \n",
       "2  Mata Atlantica         15.0          28.5        0.0   -18.018    -42.134   \n",
       "3  Mata Atlantica          8.0          28.8        0.0   -18.023    -41.505   \n",
       "4         Cerrado          5.0           3.4        0.2   -18.151    -46.168   \n",
       "\n",
       "     frp  \n",
       "0  157.3  \n",
       "1   36.6  \n",
       "2   12.1  \n",
       "3    9.4  \n",
       "4   11.1  "
      ]
     },
     "execution_count": 4,
     "metadata": {},
     "output_type": "execute_result"
    }
   ],
   "source": [
    "#demonstrando dados iniciais\n",
    "df.head()"
   ]
  },
  {
   "cell_type": "code",
   "execution_count": 5,
   "metadata": {},
   "outputs": [],
   "source": [
    "#Retirando variáveis desnecessárias e separando a data e a hora\n",
    "df[['data','hora']] = df.datahora.str.split(\" \",expand=True,)\n",
    "\n",
    "df_novo=df.drop([\"datahora\",\"satelite\",\"bioma\",\"municipio\",\"estado\",\"frp\"], axis=1)\n",
    "\n",
    "df_novo.data = df_novo.data.str.replace(\"/\", \" \")\n",
    "df_novo[['ano','mes',\"dia\"]] = df_novo.data.str.split(\" \",expand=True,)\n",
    "\n",
    "df_novo['hora'] = df_novo['hora'].str.replace(r'\\D', '')\n",
    "df_novo['hora'] = df_novo['hora'].astype(int)\n",
    "df_novo['mes'] = df_novo['mes'].astype(int)\n",
    "df_novo['dia'] = df_novo['dia'].astype(float)\n",
    "\n",
    "df_novo.loc[(60000< df_novo.hora) | (df_novo.hora<180000), \"horario\"]=0\n",
    "df_novo.loc[(df_novo.hora>180000) | (df_novo.hora<60000), \"horario\"]=1\n",
    "\n",
    "\n",
    "df_novo=df_novo.drop([\"data\",\"ano\",\"hora\"], axis=1)\n",
    "\n",
    "\n",
    "\n",
    "df.novo=df_novo.dropna(how='any', inplace=True)\n",
    "indexNames = df_novo[ (df_novo['diasemchuva'] < 0) | (df_novo['riscofogo'] < 0) ].index\n",
    "df_novo.drop(indexNames , inplace=True)\n",
    "\n",
    "#df_novo=df_novo.replace(-999, 0)"
   ]
  },
  {
   "cell_type": "code",
   "execution_count": 6,
   "metadata": {},
   "outputs": [],
   "source": [
    "df_novo.loc[(df_novo.mes==3) & (df_novo.dia>=20), \"estacao\"]=1\n",
    "df_novo.loc[(df_novo.mes==6) & (df_novo.dia>=21), \"estacao\"]=2\n",
    "df_novo.loc[(df_novo.mes==9) & (df_novo.dia>=23), \"estacao\"]=3\n",
    "df_novo.loc[(df_novo.mes==12) & (df_novo.dia>=22), \"estacao\"]=4\n",
    "df_novo.loc[(df_novo.mes<=6) & (df_novo.mes>3) | (df_novo.mes==6)  & (df_novo.dia<21) , \"estacao\"]=1\n",
    "df_novo.loc[(df_novo.mes<=9) & (df_novo.mes>6) | (df_novo.mes==9) & (df_novo.dia<23), \"estacao\"]=2\n",
    "df_novo.loc[(df_novo.mes<=12) & (df_novo.mes>9) | (df_novo.mes==12) & (df_novo.dia<22), \"estacao\"]=3\n",
    "df_novo.loc[(df_novo.mes<=3) & (df_novo.mes>=1) | (df_novo.mes==3) & (df_novo.dia<23) , \"estacao\"]=4"
   ]
  },
  {
   "cell_type": "code",
   "execution_count": null,
   "metadata": {},
   "outputs": [],
   "source": []
  },
  {
   "cell_type": "code",
   "execution_count": null,
   "metadata": {},
   "outputs": [],
   "source": []
  },
  {
   "cell_type": "code",
   "execution_count": null,
   "metadata": {},
   "outputs": [],
   "source": []
  },
  {
   "cell_type": "code",
   "execution_count": 7,
   "metadata": {},
   "outputs": [
    {
     "data": {
      "text/html": [
       "<div>\n",
       "<style scoped>\n",
       "    .dataframe tbody tr th:only-of-type {\n",
       "        vertical-align: middle;\n",
       "    }\n",
       "\n",
       "    .dataframe tbody tr th {\n",
       "        vertical-align: top;\n",
       "    }\n",
       "\n",
       "    .dataframe thead th {\n",
       "        text-align: right;\n",
       "    }\n",
       "</style>\n",
       "<table border=\"1\" class=\"dataframe\">\n",
       "  <thead>\n",
       "    <tr style=\"text-align: right;\">\n",
       "      <th></th>\n",
       "      <th>pais</th>\n",
       "      <th>diasemchuva</th>\n",
       "      <th>precipitacao</th>\n",
       "      <th>latitude</th>\n",
       "      <th>longitude</th>\n",
       "      <th>mes</th>\n",
       "      <th>dia</th>\n",
       "      <th>horario</th>\n",
       "      <th>estacao</th>\n",
       "      <th>riscofogo</th>\n",
       "    </tr>\n",
       "  </thead>\n",
       "  <tbody>\n",
       "    <tr>\n",
       "      <th>0</th>\n",
       "      <td>Brasil</td>\n",
       "      <td>7.0</td>\n",
       "      <td>8.1</td>\n",
       "      <td>-16.916</td>\n",
       "      <td>-44.824</td>\n",
       "      <td>10</td>\n",
       "      <td>22.0</td>\n",
       "      <td>0.0</td>\n",
       "      <td>3.0</td>\n",
       "      <td>0.4</td>\n",
       "    </tr>\n",
       "    <tr>\n",
       "      <th>1</th>\n",
       "      <td>Brasil</td>\n",
       "      <td>9.0</td>\n",
       "      <td>7.7</td>\n",
       "      <td>-16.917</td>\n",
       "      <td>-44.834</td>\n",
       "      <td>10</td>\n",
       "      <td>22.0</td>\n",
       "      <td>0.0</td>\n",
       "      <td>3.0</td>\n",
       "      <td>0.5</td>\n",
       "    </tr>\n",
       "    <tr>\n",
       "      <th>2</th>\n",
       "      <td>Brasil</td>\n",
       "      <td>15.0</td>\n",
       "      <td>28.5</td>\n",
       "      <td>-18.018</td>\n",
       "      <td>-42.134</td>\n",
       "      <td>10</td>\n",
       "      <td>22.0</td>\n",
       "      <td>0.0</td>\n",
       "      <td>3.0</td>\n",
       "      <td>0.0</td>\n",
       "    </tr>\n",
       "    <tr>\n",
       "      <th>3</th>\n",
       "      <td>Brasil</td>\n",
       "      <td>8.0</td>\n",
       "      <td>28.8</td>\n",
       "      <td>-18.023</td>\n",
       "      <td>-41.505</td>\n",
       "      <td>10</td>\n",
       "      <td>22.0</td>\n",
       "      <td>0.0</td>\n",
       "      <td>3.0</td>\n",
       "      <td>0.0</td>\n",
       "    </tr>\n",
       "    <tr>\n",
       "      <th>4</th>\n",
       "      <td>Brasil</td>\n",
       "      <td>5.0</td>\n",
       "      <td>3.4</td>\n",
       "      <td>-18.151</td>\n",
       "      <td>-46.168</td>\n",
       "      <td>10</td>\n",
       "      <td>22.0</td>\n",
       "      <td>0.0</td>\n",
       "      <td>3.0</td>\n",
       "      <td>0.2</td>\n",
       "    </tr>\n",
       "  </tbody>\n",
       "</table>\n",
       "</div>"
      ],
      "text/plain": [
       "     pais  diasemchuva  precipitacao  latitude  longitude  mes   dia  horario  \\\n",
       "0  Brasil          7.0           8.1   -16.916    -44.824   10  22.0      0.0   \n",
       "1  Brasil          9.0           7.7   -16.917    -44.834   10  22.0      0.0   \n",
       "2  Brasil         15.0          28.5   -18.018    -42.134   10  22.0      0.0   \n",
       "3  Brasil          8.0          28.8   -18.023    -41.505   10  22.0      0.0   \n",
       "4  Brasil          5.0           3.4   -18.151    -46.168   10  22.0      0.0   \n",
       "\n",
       "   estacao  riscofogo  \n",
       "0      3.0        0.4  \n",
       "1      3.0        0.5  \n",
       "2      3.0        0.0  \n",
       "3      3.0        0.0  \n",
       "4      3.0        0.2  "
      ]
     },
     "execution_count": 7,
     "metadata": {},
     "output_type": "execute_result"
    }
   ],
   "source": [
    "df_novo=df_novo[[\"pais\",\"diasemchuva\",\"precipitacao\",\"latitude\",\"longitude\",\"mes\",\"dia\",\"horario\",\"estacao\",\"riscofogo\"]]\n",
    "#df_novo=df_novo[[\"pais\",\"diasemchuva\",\"precipitacao\",\"latitude\",\"longitude\",\"mes\",\"horario\",\"estacao\",\"riscofogo\"]]\n",
    "\n",
    "df_novo.head()"
   ]
  },
  {
   "cell_type": "code",
   "execution_count": null,
   "metadata": {},
   "outputs": [],
   "source": []
  },
  {
   "cell_type": "code",
   "execution_count": 8,
   "metadata": {},
   "outputs": [
    {
     "data": {
      "image/png": "[encoded data removed]",
      "text/plain": [
       "<Figure size 720x720 with 4 Axes>"
      ]
     },
     "metadata": {
      "needs_background": "light"
     },
     "output_type": "display_data"
    }
   ],
   "source": [
    "fig=plt.figure(figsize=(10,10))\n",
    "\n",
    "#Riscofogo X Precipitação\n",
    "plt.subplot(221)\n",
    "plt.scatter(df_novo.riscofogo,df_novo.precipitacao)\n",
    "plt.title(\"Riscofogo X Precipitação\")\n",
    "plt.ylabel(\"Precipitação\")\n",
    "plt.xlabel(\"Risco de Fogo\")\n",
    "\n",
    "#Riscofogo X Dias Sem chuva\n",
    "plt.subplot(222)\n",
    "plt.scatter(df_novo.riscofogo,df_novo.diasemchuva)\n",
    "plt.title(\"Riscofogo X Dias Sem chuva\")\n",
    "plt.ylabel(\"Dias sem chuva\")\n",
    "plt.xlabel(\"Risco de Fogo\")\n",
    "\n",
    "#Riscofogo X Latitude\n",
    "plt.subplot(223)\n",
    "plt.scatter(df_novo.riscofogo,df_novo.latitude)\n",
    "plt.title(\"Riscofogo X Latitude\")\n",
    "plt.ylabel(\"Latitude\")\n",
    "plt.xlabel(\"Risco de Fogo\")\n",
    "\n",
    "#Riscofogo X Longitude\n",
    "plt.subplot(224)\n",
    "plt.scatter(df_novo.riscofogo,df_novo.longitude)\n",
    "plt.title(\"Riscofogo X Longitude\")\n",
    "plt.ylabel(\"Longitude\")\n",
    "plt.xlabel(\"Risco de Fogo\")\n",
    "\n",
    "plt.show()"
   ]
  },
  {
   "cell_type": "code",
   "execution_count": 9,
   "metadata": {},
   "outputs": [
    {
     "data": {
      "text/plain": [
       "Text(0.5,1,'Probplot:Longitude')"
      ]
     },
     "execution_count": 9,
     "metadata": {},
     "output_type": "execute_result"
    },
    {
     "data": {
      "image/png": "[encoded data removed]",
      "text/plain": [
       "<Figure size 1080x720 with 4 Axes>"
      ]
     },
     "metadata": {
      "needs_background": "light"
     },
     "output_type": "display_data"
    }
   ],
   "source": [
    "fig=plt.figure(figsize=(15,10))\n",
    "\n",
    "plt.subplot(221)\n",
    "stats.probplot(df_novo.riscofogo, plot = plt )\n",
    "plt.title(\"Probplot:Risco de Fogo\")\n",
    "\n",
    "plt.subplot(222)\n",
    "stats.probplot(df_novo.diasemchuva, plot = plt )\n",
    "plt.title(\"Probplot:Dias Sem Chuva\")\n",
    "\n",
    "plt.subplot(223)\n",
    "stats.probplot(df_novo.latitude, plot = plt )\n",
    "plt.title(\"Probplot:Latitude\")\n",
    "\n",
    "plt.subplot(224)\n",
    "stats.probplot(df_novo.longitude, plot = plt )\n",
    "plt.title(\"Probplot:Longitude\")"
   ]
  },
  {
   "cell_type": "code",
   "execution_count": 10,
   "metadata": {},
   "outputs": [],
   "source": [
    "#Salvando base de dados como CSV\n",
    "df_novo.to_csv('BaseDeDados.csv')"
   ]
  },
  {
   "cell_type": "code",
   "execution_count": 11,
   "metadata": {},
   "outputs": [],
   "source": [
    "data=pd.read_csv('BaseDeDados.csv')"
   ]
  },
  {
   "cell_type": "code",
   "execution_count": 12,
   "metadata": {},
   "outputs": [],
   "source": [
    "data=data[[\"diasemchuva\",\"precipitacao\",\"latitude\",\"longitude\",\"mes\",\"horario\",\"estacao\",\"riscofogo\"]]\n",
    "dataset = data.values\n",
    "ft, target = dataset[:, :-1], dataset[:, -1]\n",
    "x_treino, x_teste, y_treino, y_teste = train_test_split(ft, target, test_size=0.2, random_state=1)"
   ]
  },
  {
   "cell_type": "code",
   "execution_count": 13,
   "metadata": {},
   "outputs": [],
   "source": [
    "modelo=linear_model.LinearRegression()"
   ]
  },
  {
   "cell_type": "code",
   "execution_count": 14,
   "metadata": {},
   "outputs": [
    {
     "data": {
      "text/plain": [
       "LinearRegression(copy_X=True, fit_intercept=True, n_jobs=1, normalize=False)"
      ]
     },
     "execution_count": 14,
     "metadata": {},
     "output_type": "execute_result"
    }
   ],
   "source": [
    "modelo.fit(x_treino,y_treino)"
   ]
  },
  {
   "cell_type": "code",
   "execution_count": 15,
   "metadata": {},
   "outputs": [
    {
     "name": "stdout",
     "output_type": "stream",
     "text": [
      "Coeficientes : [ 0.00372562 -0.03598333 -0.00304575  0.01016968  0.01546489  0.01250287\n",
      " -0.08081865]\n",
      "      r^2 : 0.39\n"
     ]
    }
   ],
   "source": [
    "print(\"Coeficientes :\",modelo.coef_)\n",
    "y_predict=modelo.predict(x_teste)\n",
    "print(\"      r^2 : %.2f\"%r2_score(y_teste,y_predict))"
   ]
  },
  {
   "cell_type": "markdown",
   "metadata": {},
   "source": [
    "## Dataset para testar eficiencia "
   ]
  },
  {
   "cell_type": "markdown",
   "metadata": {},
   "source": []
  },
  {
   "cell_type": "code",
   "execution_count": 16,
   "metadata": {},
   "outputs": [],
   "source": [
    "dados_conf=pd.read_csv(\"Focos_2018-12-31_2019-12-31.csv\", low_memory=False)"
   ]
  },
  {
   "cell_type": "code",
   "execution_count": 17,
   "metadata": {},
   "outputs": [],
   "source": [
    "dados_conf[['data','hora']] = dados_conf.datahora.str.split(\" \",expand=True,)\n",
    "\n",
    "dados_def=dados_conf.drop([\"datahora\",\"satelite\",\"bioma\",\"municipio\",\"estado\",\"frp\"], axis=1)\n",
    "\n",
    "dados_def.data = dados_def.data.str.replace(\"/\", \" \")\n",
    "dados_def[['ano','mes',\"dia\"]] = dados_def.data.str.split(\" \",expand=True,)\n",
    "\n",
    "dados_def['hora'] = dados_def['hora'].str.replace(r'\\D', '')\n",
    "dados_def['hora'] = dados_def['hora'].astype(int)\n",
    "dados_def['mes'] = dados_def['mes'].astype(int)\n",
    "dados_def['dia'] = dados_def['dia'].astype(float)\n",
    "\n",
    "dados_def.loc[(60000< dados_def.hora) | (dados_def.hora<180000), \"horario\"]=0\n",
    "dados_def.loc[(dados_def.hora>180000) | (dados_def.hora<60000), \"horario\"]=1\n",
    "\n",
    "\n",
    "dados_def=dados_def.drop([\"data\",\"ano\",\"hora\"], axis=1)\n",
    "dados_def.dropna(how='any', inplace=True)"
   ]
  },
  {
   "cell_type": "code",
   "execution_count": 18,
   "metadata": {},
   "outputs": [],
   "source": [
    "indexNames2 =dados_def[ (dados_def['diasemchuva'] < 0) | (dados_def['riscofogo'] < 0) ].index\n",
    "dados_def.drop(indexNames2 , inplace=True)"
   ]
  },
  {
   "cell_type": "code",
   "execution_count": 19,
   "metadata": {},
   "outputs": [
    {
     "data": {
      "text/html": [
       "<div>\n",
       "<style scoped>\n",
       "    .dataframe tbody tr th:only-of-type {\n",
       "        vertical-align: middle;\n",
       "    }\n",
       "\n",
       "    .dataframe tbody tr th {\n",
       "        vertical-align: top;\n",
       "    }\n",
       "\n",
       "    .dataframe thead th {\n",
       "        text-align: right;\n",
       "    }\n",
       "</style>\n",
       "<table border=\"1\" class=\"dataframe\">\n",
       "  <thead>\n",
       "    <tr style=\"text-align: right;\">\n",
       "      <th></th>\n",
       "      <th>pais</th>\n",
       "      <th>diasemchuva</th>\n",
       "      <th>precipitacao</th>\n",
       "      <th>latitude</th>\n",
       "      <th>longitude</th>\n",
       "      <th>mes</th>\n",
       "      <th>dia</th>\n",
       "      <th>horario</th>\n",
       "      <th>estacao</th>\n",
       "      <th>riscofogo</th>\n",
       "    </tr>\n",
       "  </thead>\n",
       "  <tbody>\n",
       "    <tr>\n",
       "      <th>0</th>\n",
       "      <td>Brasil</td>\n",
       "      <td>23</td>\n",
       "      <td>0.0</td>\n",
       "      <td>-14.87</td>\n",
       "      <td>-51.09</td>\n",
       "      <td>8</td>\n",
       "      <td>14.0</td>\n",
       "      <td>1.0</td>\n",
       "      <td>2.0</td>\n",
       "      <td>1.0</td>\n",
       "    </tr>\n",
       "    <tr>\n",
       "      <th>1</th>\n",
       "      <td>Brasil</td>\n",
       "      <td>23</td>\n",
       "      <td>0.0</td>\n",
       "      <td>-14.87</td>\n",
       "      <td>-51.09</td>\n",
       "      <td>8</td>\n",
       "      <td>14.0</td>\n",
       "      <td>1.0</td>\n",
       "      <td>2.0</td>\n",
       "      <td>1.0</td>\n",
       "    </tr>\n",
       "    <tr>\n",
       "      <th>2</th>\n",
       "      <td>Brasil</td>\n",
       "      <td>23</td>\n",
       "      <td>0.0</td>\n",
       "      <td>-14.87</td>\n",
       "      <td>-51.09</td>\n",
       "      <td>8</td>\n",
       "      <td>14.0</td>\n",
       "      <td>1.0</td>\n",
       "      <td>2.0</td>\n",
       "      <td>1.0</td>\n",
       "    </tr>\n",
       "    <tr>\n",
       "      <th>3</th>\n",
       "      <td>Brasil</td>\n",
       "      <td>3</td>\n",
       "      <td>16.8</td>\n",
       "      <td>-12.28</td>\n",
       "      <td>-48.33</td>\n",
       "      <td>12</td>\n",
       "      <td>24.0</td>\n",
       "      <td>0.0</td>\n",
       "      <td>3.0</td>\n",
       "      <td>0.0</td>\n",
       "    </tr>\n",
       "    <tr>\n",
       "      <th>4</th>\n",
       "      <td>Brasil</td>\n",
       "      <td>5</td>\n",
       "      <td>0.0</td>\n",
       "      <td>-7.96</td>\n",
       "      <td>-39.96</td>\n",
       "      <td>12</td>\n",
       "      <td>24.0</td>\n",
       "      <td>0.0</td>\n",
       "      <td>3.0</td>\n",
       "      <td>1.0</td>\n",
       "    </tr>\n",
       "  </tbody>\n",
       "</table>\n",
       "</div>"
      ],
      "text/plain": [
       "     pais  diasemchuva  precipitacao  latitude  longitude  mes   dia  horario  \\\n",
       "0  Brasil           23           0.0    -14.87     -51.09    8  14.0      1.0   \n",
       "1  Brasil           23           0.0    -14.87     -51.09    8  14.0      1.0   \n",
       "2  Brasil           23           0.0    -14.87     -51.09    8  14.0      1.0   \n",
       "3  Brasil            3          16.8    -12.28     -48.33   12  24.0      0.0   \n",
       "4  Brasil            5           0.0     -7.96     -39.96   12  24.0      0.0   \n",
       "\n",
       "   estacao  riscofogo  \n",
       "0      2.0        1.0  \n",
       "1      2.0        1.0  \n",
       "2      2.0        1.0  \n",
       "3      3.0        0.0  \n",
       "4      3.0        1.0  "
      ]
     },
     "execution_count": 19,
     "metadata": {},
     "output_type": "execute_result"
    }
   ],
   "source": [
    "dados_def.loc[(dados_def.mes==3) & (dados_def.dia>=20), \"estacao\"]=1\n",
    "dados_def.loc[(dados_def.mes==6) & (dados_def.dia>=21), \"estacao\"]=2\n",
    "dados_def.loc[(dados_def.mes==9) & (dados_def.dia>=23), \"estacao\"]=3\n",
    "dados_def.loc[(dados_def.mes==12) & (dados_def.dia>=22), \"estacao\"]=4\n",
    "dados_def.loc[(dados_def.mes<=6) & (dados_def.mes>3) | (dados_def.mes==6)  & (dados_def.dia<21) , \"estacao\"]=1\n",
    "dados_def.loc[(dados_def.mes<=9) & (dados_def.mes>6) | (dados_def.mes==9) & (dados_def.dia<23), \"estacao\"]=2\n",
    "dados_def.loc[(dados_def.mes<=12) & (dados_def.mes>9) | (dados_def.mes==12) & (dados_def.dia<22), \"estacao\"]=3\n",
    "dados_def.loc[(dados_def.mes<=3) & (dados_def.mes>=1) | (dados_def.mes==3) & (dados_def.dia<23) , \"estacao\"]=4\n",
    "\n",
    "dados_def=dados_def[[\"pais\",\"diasemchuva\",\"precipitacao\",\"latitude\",\"longitude\",\"mes\",\"dia\",\"horario\",\"estacao\",\"riscofogo\"]]\n",
    "dados_def.head()"
   ]
  },
  {
   "cell_type": "code",
   "execution_count": 20,
   "metadata": {},
   "outputs": [],
   "source": [
    "dados_def.to_csv('BaseDeDadosOficial.csv')"
   ]
  },
  {
   "cell_type": "code",
   "execution_count": 21,
   "metadata": {},
   "outputs": [],
   "source": [
    "database=pd.read_csv('BaseDeDados.csv')\n",
    "database=database[[\"diasemchuva\",\"precipitacao\",\"latitude\",\"longitude\",\"mes\",\"horario\",\"estacao\",\"riscofogo\"]]\n",
    "#dataset_def = database.values\n",
    "#dataset_def"
   ]
  },
  {
   "cell_type": "code",
   "execution_count": 22,
   "metadata": {},
   "outputs": [],
   "source": [
    "Y=database.riscofogo\n",
    "X=database.drop([\"riscofogo\"],axis=1)"
   ]
  },
  {
   "cell_type": "code",
   "execution_count": 23,
   "metadata": {},
   "outputs": [],
   "source": [
    "x_treino, x_teste, y_treino, y_teste = train_test_split(X, Y, test_size=0.2, random_state=1)"
   ]
  },
  {
   "cell_type": "code",
   "execution_count": 24,
   "metadata": {},
   "outputs": [],
   "source": [
    "modelo=linear_model.LinearRegression()"
   ]
  },
  {
   "cell_type": "code",
   "execution_count": 25,
   "metadata": {},
   "outputs": [
    {
     "data": {
      "text/plain": [
       "LinearRegression(copy_X=True, fit_intercept=True, n_jobs=1, normalize=False)"
      ]
     },
     "execution_count": 25,
     "metadata": {},
     "output_type": "execute_result"
    }
   ],
   "source": [
    "modelo.fit(x_treino,y_treino)"
   ]
  },
  {
   "cell_type": "code",
   "execution_count": 26,
   "metadata": {},
   "outputs": [
    {
     "name": "stdout",
     "output_type": "stream",
     "text": [
      "Coeficientes : [ 0.00372562 -0.03598333 -0.00304575  0.01016968  0.01546489  0.01250287\n",
      " -0.08081865]\n",
      "      r^2 : 0.39\n"
     ]
    }
   ],
   "source": [
    "print(\"Coeficientes :\",modelo.coef_)\n",
    "y_predict=modelo.predict(x_teste)\n",
    "print(\"      r^2 : %.2f\"%r2_score(y_teste,y_predict))"
   ]
  },
  {
   "cell_type": "code",
   "execution_count": null,
   "metadata": {},
   "outputs": [],
   "source": []
  }
 ],
 "metadata": {
  "kernelspec": {
   "display_name": "Python 3",
   "language": "python",
   "name": "python3"
  },
  "language_info": {
   "codemirror_mode": {
    "name": "ipython",
    "version": 3
   },
   "file_extension": ".py",
   "mimetype": "text/x-python",
   "name": "python",
   "nbconvert_exporter": "python",
   "pygments_lexer": "ipython3",
   "version": "3.6.5"
  }
 },
 "nbformat": 4,
 "nbformat_minor": 2
}
